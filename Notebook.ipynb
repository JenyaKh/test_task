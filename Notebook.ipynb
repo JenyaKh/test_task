{
 "cells": [
  {
   "cell_type": "code",
   "execution_count": null,
   "id": "e356b64d",
   "metadata": {},
   "outputs": [],
   "source": [
    "from main import DrawingPlots\n",
    "\n",
    "dp_object = DrawingPlots()\n",
    "pathes = dp_object.draw_plots()\n",
    "for path in pathes:\n",
    "    print(path)"
   ]
  }
 ],
 "metadata": {
  "kernelspec": {
   "display_name": "Python 3 (ipykernel)",
   "language": "python",
   "name": "python3"
  },
  "language_info": {
   "codemirror_mode": {
    "name": "ipython",
    "version": 3
   },
   "file_extension": ".py",
   "mimetype": "text/x-python",
   "name": "python",
   "nbconvert_exporter": "python",
   "pygments_lexer": "ipython3",
   "version": "3.9.5"
  }
 },
 "nbformat": 4,
 "nbformat_minor": 5
}
